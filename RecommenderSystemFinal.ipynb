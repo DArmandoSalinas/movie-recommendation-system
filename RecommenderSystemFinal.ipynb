{
 "cells": [
  {
   "cell_type": "markdown",
   "metadata": {},
   "source": [
    "# Movie Recommendation System\n",
    "This notebook implements a **Movie Recommendation System** using **Machine Learning**. It focuses on two main approaches:\n",
    "\n",
    "1. **Content-Based Filtering**: Recommendations based on the features of the movies.\n",
    "2. **Collaborative Filtering**: Recommendations based on user preferences.\n",
    "\n",
    "The project workflow includes:\n",
    "- **Loading and exploring the dataset**.\n",
    "- **Preprocessing the data**.\n",
    "- **Implementing recommendation models**.\n",
    "- **Evaluating results and visualizing findings**.\n",
    "\n"
   ]
  },
  {
   "cell_type": "markdown",
   "metadata": {},
   "source": [
    "## Loading the Dataset\n",
    "The dataset in used is [MovieLens dataset](https://grouplens.org/datasets/movielens/), which is widely used for recommendation system research. It contains:\n",
    "\n",
    "- `movies.csv`: Information about movies (ID, title, genres).\n",
    "- `ratings.csv`: User ratings for the movies.\n",
    "\n",
    "Let's load these files and preview the data.\n"
   ]
  },
  {
   "cell_type": "code",
   "execution_count": null,
   "metadata": {},
   "outputs": [
    {
     "name": "stdout",
     "output_type": "stream",
     "text": [
      "Movies Dataset:\n",
      "   movieId                               title  \\\n",
      "0        1                    Toy Story (1995)   \n",
      "1        2                      Jumanji (1995)   \n",
      "2        3             Grumpier Old Men (1995)   \n",
      "3        4            Waiting to Exhale (1995)   \n",
      "4        5  Father of the Bride Part II (1995)   \n",
      "\n",
      "                                        genres  \n",
      "0  Adventure|Animation|Children|Comedy|Fantasy  \n",
      "1                   Adventure|Children|Fantasy  \n",
      "2                               Comedy|Romance  \n",
      "3                         Comedy|Drama|Romance  \n",
      "4                                       Comedy  \n",
      "\n",
      "Ratings Dataset:\n",
      "   userId  movieId  rating  timestamp\n",
      "0       1        1     4.0  964982703\n",
      "1       1        3     4.0  964981247\n",
      "2       1        6     4.0  964982224\n",
      "3       1       47     5.0  964983815\n",
      "4       1       50     5.0  964982931\n"
     ]
    }
   ],
   "source": [
    "# Importing libraries\n",
    "import pandas as pd\n",
    "\n",
    "# Loading datasets\n",
    "movies = pd.read_csv(r'C:\\Users\\Salin\\OneDrive\\Documentos\\Personal Projects\\Recomender\\movies.csv')\n",
    "ratings = pd.read_csv(r'C:\\Users\\Salin\\OneDrive\\Documentos\\Personal Projects\\Recomender\\ratings.csv')\n",
    "\n",
    "# Preview of the datasets\n",
    "print(\"Movies Dataset:\")\n",
    "print(movies.head())\n",
    "\n",
    "print(\"\\nRatings Dataset:\")\n",
    "print(ratings.head())"
   ]
  },
  {
   "cell_type": "markdown",
   "metadata": {},
   "source": [
    "## Data Exploration\n",
    "In this section, the dataset will be explored to understand its structure, including:\n",
    "- Distribution of ratings.\n",
    "- Frequency of genres.\n",
    "- Unique users and movies.\n"
   ]
  },
  {
   "cell_type": "code",
   "execution_count": 3,
   "metadata": {},
   "outputs": [
    {
     "name": "stdout",
     "output_type": "stream",
     "text": [
      "Number of unique movies: 9742\n",
      "Number of unique users: 610\n",
      "Total number of ratings: 100836\n"
     ]
    },
    {
     "data": {
      "image/png": "[encoded data removed]",
      "text/plain": [
       "<Figure size 1000x500 with 1 Axes>"
      ]
     },
     "metadata": {},
     "output_type": "display_data"
    }
   ],
   "source": [
    "# Basic statistics\n",
    "print(f\"Number of unique movies: {movies['movieId'].nunique()}\")\n",
    "print(f\"Number of unique users: {ratings['userId'].nunique()}\")\n",
    "print(f\"Total number of ratings: {len(ratings)}\")\n",
    "\n",
    "# Distribution of ratings\n",
    "import matplotlib.pyplot as plt\n",
    "import seaborn as sns\n",
    "\n",
    "plt.figure(figsize=(10, 5))\n",
    "sns.histplot(ratings['rating'], bins=10, kde=False)\n",
    "plt.title('Distribution of Ratings')\n",
    "plt.xlabel('Rating')\n",
    "plt.ylabel('Frequency')\n",
    "plt.show()\n"
   ]
  },
  {
   "cell_type": "markdown",
   "metadata": {},
   "source": [
    "## Data Preprocessing\n",
    "To prepare the data for modeling, the following steps can be executed.\n",
    "1. Handle missing values.\n",
    "2. Normalize or transform the data if required.\n"
   ]
  },
  {
   "cell_type": "code",
   "execution_count": 4,
   "metadata": {},
   "outputs": [
    {
     "name": "stdout",
     "output_type": "stream",
     "text": [
      "Missing values:\n",
      "userId       0\n",
      "movieId      0\n",
      "rating       0\n",
      "timestamp    0\n",
      "dtype: int64\n",
      "Data cleaned.\n"
     ]
    }
   ],
   "source": [
    "# Checking for missing values\n",
    "print(\"Missing values:\")\n",
    "print(ratings.isnull().sum())\n",
    "\n",
    "# Dropping missing values (if any)\n",
    "ratings = ratings.dropna()\n",
    "print(\"Data cleaned.\")\n"
   ]
  },
  {
   "cell_type": "markdown",
   "metadata": {},
   "source": [
    "Normalizing ratings by centering them around each user’s mean rating. This step ensures that users' individual rating biases are neutralized."
   ]
  },
  {
   "cell_type": "code",
   "execution_count": 5,
   "metadata": {},
   "outputs": [
    {
     "name": "stdout",
     "output_type": "stream",
     "text": [
      "   userId  movieId  rating  normalized_rating\n",
      "0       1        1     4.0          -0.366379\n",
      "1       1        3     4.0          -0.366379\n",
      "2       1        6     4.0          -0.366379\n",
      "3       1       47     5.0           0.633621\n",
      "4       1       50     5.0           0.633621\n"
     ]
    }
   ],
   "source": [
    "# Normalizing ratings by subtracting the user's mean rating\n",
    "ratings['normalized_rating'] = ratings['rating'] - ratings.groupby('userId')['rating'].transform('mean')\n",
    "\n",
    "# Previewing the normalized ratings\n",
    "print(ratings[['userId', 'movieId', 'rating', 'normalized_rating']].head())\n"
   ]
  },
  {
   "cell_type": "markdown",
   "metadata": {},
   "source": [
    "## Collaborative Filtering: SVD (Singular Value Decomposition)\n",
    "Collaborative filtering is a technique that makes recommendations based on user preferences and behaviors. \n",
    "\n",
    "### Key Steps:\n",
    "1. **Creating a User-Item Matrix:** To organize the data into a matrix where rows represent users and columns represent movies, with cell values as ratings.\n",
    "2. **Applying SVD:** To decompose the matrix into three components:\n",
    "   - `U`: User features matrix.\n",
    "   - `Σ`: Diagonal matrix with singular values.\n",
    "   - `Vt`: Transposed movie features matrix.\n",
    "3. **Reconstructing Predicted Ratings:** To use the decomposed matrices to predict user ratings for movies they haven’t rated.\n",
    "4. **Recommending Top Movies:** For each user, recommend movies with the highest predicted ratings.\n"
   ]
  },
  {
   "cell_type": "code",
   "execution_count": 6,
   "metadata": {},
   "outputs": [
    {
     "name": "stdout",
     "output_type": "stream",
     "text": [
      "User-Item Matrix Shape: (610, 9724)\n",
      "movieId    1       2         3       4       5         6       7       8       \\\n",
      "userId                                                                          \n",
      "1       -0.366379     0.0 -0.366379     0.0     0.0 -0.366379     0.0     0.0   \n",
      "2        0.000000     0.0  0.000000     0.0     0.0  0.000000     0.0     0.0   \n",
      "3        0.000000     0.0  0.000000     0.0     0.0  0.000000     0.0     0.0   \n",
      "4        0.000000     0.0  0.000000     0.0     0.0  0.000000     0.0     0.0   \n",
      "5        0.363636     0.0  0.000000     0.0     0.0  0.000000     0.0     0.0   \n",
      "\n",
      "movieId  9       10      ...  193565  193567  193571  193573  193579  193581  \\\n",
      "userId                   ...                                                   \n",
      "1           0.0     0.0  ...     0.0     0.0     0.0     0.0     0.0     0.0   \n",
      "2           0.0     0.0  ...     0.0     0.0     0.0     0.0     0.0     0.0   \n",
      "3           0.0     0.0  ...     0.0     0.0     0.0     0.0     0.0     0.0   \n",
      "4           0.0     0.0  ...     0.0     0.0     0.0     0.0     0.0     0.0   \n",
      "5           0.0     0.0  ...     0.0     0.0     0.0     0.0     0.0     0.0   \n",
      "\n",
      "movieId  193583  193585  193587  193609  \n",
      "userId                                   \n",
      "1           0.0     0.0     0.0     0.0  \n",
      "2           0.0     0.0     0.0     0.0  \n",
      "3           0.0     0.0     0.0     0.0  \n",
      "4           0.0     0.0     0.0     0.0  \n",
      "5           0.0     0.0     0.0     0.0  \n",
      "\n",
      "[5 rows x 9724 columns]\n"
     ]
    }
   ],
   "source": [
    "import numpy as np\n",
    "\n",
    "# Creating a user-item matrix with normalized ratings\n",
    "user_item_matrix = ratings.pivot(index='userId', columns='movieId', values='normalized_rating').fillna(0)\n",
    "\n",
    "# Preview of the matrix\n",
    "print(\"User-Item Matrix Shape:\", user_item_matrix.shape)\n",
    "print(user_item_matrix.head())\n"
   ]
  },
  {
   "cell_type": "markdown",
   "metadata": {},
   "source": [
    "### Applying SVD\n",
    "\n",
    "SVD is a mathematical technique used to decompose a matrix into three smaller matrices. It helps on finding patterns or hidden relationships in data. For a user-item matrix (ratings matrix), SVD extracts latent factors (hidden features) that describe relationships between users and movies.\n",
    "\n",
    "SVD decomposes the user-item matrix into three components:\n",
    "- **U (Users):** Captures latent features of users.\n",
    "- **Σ (Singular Values):** Captures the strength of each latent feature.\n",
    "- **Vt (Movies):** Captures latent features of movies.\n",
    "\n",
    "Latent factors are hidden features that explain the relationships between users and items.\n",
    "\n",
    "**Example:  Latent factors might represent things like:**\n",
    "\n",
    "+ Whether a user likes action or romance movies.\n",
    "+ Whether a movie is fast-paced or emotional.\n",
    "\n",
    "The number of latent features (`k`) determines the dimensionality of the reduced space.\n",
    "\n",
    "**The Decomposition**\n",
    "\n",
    "*U: User Matrix*\n",
    "\n",
    "Each row represents a user in a reduced feature space.\n",
    "These features capture user preferences across the latent factors.\n",
    "\n",
    "*Σ: Singular Values*\n",
    "\n",
    "A diagonal matrix containing the strength (importance) of each latent factor.\n",
    "\n",
    "*Vt :  Movie Matrix*\n",
    "\n",
    "Each row represents a movie in the same reduced feature space.\n",
    "These features capture the movie characteristics across the latent factors.\n"
   ]
  },
  {
   "cell_type": "code",
   "execution_count": 7,
   "metadata": {},
   "outputs": [
    {
     "name": "stdout",
     "output_type": "stream",
     "text": [
      "U Shape: (610, 100)\n",
      "Sigma Shape: (100, 100)\n",
      "Vt Shape: (100, 9724)\n"
     ]
    }
   ],
   "source": [
    "from scipy.sparse import csr_matrix\n",
    "from scipy.sparse.linalg import svds\n",
    "import numpy as np\n",
    "\n",
    "# Converting the user-item matrix to a sparse matrix\n",
    "user_item_sparse_matrix = csr_matrix(user_item_matrix.values)\n",
    "\n",
    "# Performing SVD\n",
    "U, sigma, Vt = svds(user_item_sparse_matrix, k=100)  # Use 50 latent features\n",
    "sigma = np.diag(sigma)  # Convert singular values into a diagonal matrix\n",
    "\n",
    "# Printing the shapes of the decomposed matrices\n",
    "print(\"U Shape:\", U.shape)\n",
    "print(\"Sigma Shape:\", sigma.shape)\n",
    "print(\"Vt Shape:\", Vt.shape)\n"
   ]
  },
  {
   "cell_type": "markdown",
   "metadata": {},
   "source": [
    "### Reconstructing Predicted Ratings\n",
    "Using the decomposed matrices (`U`, `Σ`, and `Vt`), the predicted ratings for each user and movie can be reconstructed. These predicted ratings are used to recommend movies.\n"
   ]
  },
  {
   "cell_type": "code",
   "execution_count": 8,
   "metadata": {},
   "outputs": [
    {
     "name": "stdout",
     "output_type": "stream",
     "text": [
      "movieId    1         2         3         4         5         6         7       \\\n",
      "userId                                                                          \n",
      "1       -0.339966 -0.312319 -0.179976  0.068377  0.092480 -0.323466  0.018535   \n",
      "2       -0.015771 -0.036697 -0.007778 -0.000646  0.008169  0.008497 -0.011060   \n",
      "3       -0.005787  0.139086  0.056851  0.013729  0.051440 -0.058610  0.086681   \n",
      "4        0.078828  0.018873 -0.088689  0.007350  0.022391  0.128067 -0.138063   \n",
      "5        0.201188 -0.008060 -0.088992 -0.007434 -0.037624 -0.006552 -0.006090   \n",
      "\n",
      "movieId    8         9         10      ...    193565    193567    193571  \\\n",
      "userId                                 ...                                 \n",
      "1       -0.022958  0.032668  0.148079  ...  0.000010  0.000033 -0.000014   \n",
      "2        0.000050  0.001728  0.050895  ... -0.000040 -0.000139  0.000058   \n",
      "3       -0.058069  0.026554  0.033121  ... -0.001031 -0.003541  0.001480   \n",
      "4       -0.028452 -0.063456  0.065827  ...  0.002541  0.008731 -0.003650   \n",
      "5       -0.006024 -0.015963  0.008134  ...  0.000522  0.001793 -0.000749   \n",
      "\n",
      "movieId    193573    193579    193581    193583    193585    193587    193609  \n",
      "userId                                                                         \n",
      "1       -0.000014  0.000010 -0.000014  0.000010  0.000010  0.000010 -0.006766  \n",
      "2        0.000058 -0.000040  0.000058 -0.000040 -0.000040 -0.000040 -0.001787  \n",
      "3        0.001480 -0.001031  0.001480 -0.001031 -0.001031 -0.001031  0.000042  \n",
      "4       -0.003650  0.002541 -0.003650  0.002541  0.002541  0.002541  0.002287  \n",
      "5       -0.000749  0.000522 -0.000749  0.000522  0.000522  0.000522 -0.001093  \n",
      "\n",
      "[5 rows x 9724 columns]\n"
     ]
    }
   ],
   "source": [
    "# Reconstructing the predicted ratings matrix\n",
    "predicted_ratings = np.dot(np.dot(U, sigma), Vt)\n",
    "\n",
    "# Converting the matrix back to a DataFrame\n",
    "predicted_ratings_df = pd.DataFrame(predicted_ratings, index=user_item_matrix.index, columns=user_item_matrix.columns)\n",
    "\n",
    "# Previewing the predicted ratings\n",
    "print(predicted_ratings_df.head())\n"
   ]
  },
  {
   "cell_type": "markdown",
   "metadata": {},
   "source": [
    "### Recommend Top Movies\n",
    "Recommending for each user the top movies with the highest predicted ratings that they haven’t rated yet.\n"
   ]
  },
  {
   "cell_type": "code",
   "execution_count": 9,
   "metadata": {},
   "outputs": [
    {
     "name": "stdout",
     "output_type": "stream",
     "text": [
      "Top 5 Recommendations for User 1:\n",
      "                                               title         1\n",
      "0                               Departed, The (2006)  0.440982\n",
      "1              Ace Ventura: When Nature Calls (1995)  0.438576\n",
      "2  Lord of the Rings: The Return of the King, The...  0.346146\n",
      "3               Bridge on the River Kwai, The (1957)  0.332124\n",
      "4                          Dead Poets Society (1989)  0.323893\n"
     ]
    }
   ],
   "source": [
    "def recommend_movies_with_names(user_id, num_recommendations=5):\n",
    "    # Getting the user's predicted ratings\n",
    "    user_ratings = predicted_ratings_df.loc[user_id].sort_values(ascending=False)\n",
    "    \n",
    "    # Getting the movies the user has already rated\n",
    "    rated_movies = ratings[ratings['userId'] == user_id]['movieId'].values\n",
    "    \n",
    "    # Recommending movies the user hasn’t rated yet\n",
    "    recommendations = user_ratings.drop(rated_movies).head(num_recommendations)\n",
    "    \n",
    "    # Merging with the movies dataset to get movie names\n",
    "    recommendations = recommendations.reset_index().merge(movies[['movieId', 'title']], on='movieId')\n",
    "    \n",
    "    return recommendations[['title', user_id]]\n",
    "\n",
    "# Example: Recommend 5 movies for user 1 with names\n",
    "user_id = 1\n",
    "recommendations_with_names = recommend_movies_with_names(user_id)\n",
    "print(f\"Top {len(recommendations_with_names)} Recommendations for User {user_id}:\")\n",
    "print(recommendations_with_names)\n"
   ]
  },
  {
   "cell_type": "markdown",
   "metadata": {},
   "source": [
    "### Evaluating Systems \n"
   ]
  },
  {
   "cell_type": "code",
   "execution_count": 10,
   "metadata": {},
   "outputs": [
    {
     "name": "stdout",
     "output_type": "stream",
     "text": [
      "Root Mean Squared Error (RMSE): 0.4775983122744008\n"
     ]
    }
   ],
   "source": [
    "\n",
    "from sklearn.metrics import mean_squared_error\n",
    "from math import sqrt\n",
    "\n",
    "# Flattening the matrices for evaluation\n",
    "actual = user_item_matrix.values.flatten()\n",
    "predicted = predicted_ratings_df.values.flatten()\n",
    "\n",
    "# Filtering out zero values (unrated items)\n",
    "mask = actual != 0\n",
    "actual = actual[mask]\n",
    "predicted = predicted[mask]\n",
    "\n",
    "# Computing RMSE\n",
    "rmse = sqrt(mean_squared_error(actual, predicted))\n",
    "print(\"Root Mean Squared Error (RMSE):\", rmse)\n"
   ]
  },
  {
   "cell_type": "markdown",
   "metadata": {},
   "source": [
    "## Evaluating Collaborative Filtering: Baseline RMSE\n",
    "To better understand the performance of the Collaborative Filtering model, the RMSE is going to be compared to a baseline model:\n",
    "- **Baseline Model:** Predicts the average rating for all movies as the rating for each user-item pair.\n",
    "- **Collaborative Filtering Model:** Uses SVD for predictions.\n"
   ]
  },
  {
   "cell_type": "code",
   "execution_count": 11,
   "metadata": {},
   "outputs": [
    {
     "name": "stdout",
     "output_type": "stream",
     "text": [
      "Baseline RMSE (Average Rating): 3.6244571141664625\n",
      "Collaborative Filtering RMSE: 0.4775983122744008\n",
      "Baseline RMSE: 3.6244571141664625\n"
     ]
    }
   ],
   "source": [
    "# Baseline: Predicts the average rating for all movies\n",
    "average_rating = ratings['rating'].mean()\n",
    "\n",
    "# Computing Baseline RMSE\n",
    "baseline_rmse = sqrt(mean_squared_error(actual, [average_rating] * len(actual)))\n",
    "print(\"Baseline RMSE (Average Rating):\", baseline_rmse)\n",
    "\n",
    "# Comparing RMSEs\n",
    "print(f\"Collaborative Filtering RMSE: {rmse}\")\n",
    "print(f\"Baseline RMSE: {baseline_rmse}\")\n"
   ]
  },
  {
   "cell_type": "markdown",
   "metadata": {},
   "source": [
    "### Conclusion: Model Performance\n",
    "- The **Collaborative Filtering Model** achieves an RMSE of **0.62**, significantly lower than the **Baseline RMSE** of **3.62**.\n",
    "- This demonstrates that the model effectively captures user preferences and provides personalized recommendations.\n"
   ]
  },
  {
   "cell_type": "code",
   "execution_count": 12,
   "metadata": {},
   "outputs": [
    {
     "data": {
      "image/png": "[encoded data removed]",
      "text/plain": [
       "<Figure size 640x480 with 1 Axes>"
      ]
     },
     "metadata": {},
     "output_type": "display_data"
    }
   ],
   "source": [
    "\n",
    "import matplotlib.pyplot as plt\n",
    "\n",
    "# RMSE values\n",
    "rmse_values = [baseline_rmse, rmse]\n",
    "labels = ['Baseline', 'Collaborative Filtering']\n",
    "\n",
    "# Plot\n",
    "plt.bar(labels, rmse_values, color=['red', 'blue'])\n",
    "plt.title('Model RMSE Comparison')\n",
    "plt.ylabel('RMSE')\n",
    "plt.show()\n"
   ]
  },
  {
   "cell_type": "markdown",
   "metadata": {},
   "source": [
    "## Content-Based Filtering: Movie Recommendations by Title\n",
    "We implement a content-based filtering approach to recommend movies based on their similarity to a given movie. \n",
    "This system uses:\n",
    "1. **TF-IDF Vectorization**: To process movie genres into numerical features.\n",
    "2. **Cosine Similarity**: To compute similarity between movies.\n"
   ]
  },
  {
   "cell_type": "code",
   "execution_count": 13,
   "metadata": {},
   "outputs": [
    {
     "name": "stdout",
     "output_type": "stream",
     "text": [
      "Cosine Similarity Matrix Shape: (9742, 9742)\n"
     ]
    }
   ],
   "source": [
    "from sklearn.metrics.pairwise import cosine_similarity\n",
    "from sklearn.feature_extraction.text import TfidfVectorizer\n",
    "\n",
    "# Step 1: Creating a TF-IDF matrix for genres\n",
    "tfidf = TfidfVectorizer(stop_words='english')\n",
    "movies['genres'] = movies['genres'].fillna('')  # Handle missing values\n",
    "tfidf_matrix = tfidf.fit_transform(movies['genres'])\n",
    "\n",
    "# Step 2: Computing cosine similarity\n",
    "cosine_sim = cosine_similarity(tfidf_matrix, tfidf_matrix)\n",
    "\n",
    "# Verifying the shape of the similarity matrix\n",
    "print(\"Cosine Similarity Matrix Shape:\", cosine_sim.shape)\n"
   ]
  },
  {
   "cell_type": "markdown",
   "metadata": {},
   "source": [
    "### Recommend Movies by Title\n",
    "The following function accepts a movie title as input and returns the top 5 most similar movies based on genres.\n"
   ]
  },
  {
   "cell_type": "code",
   "execution_count": 14,
   "metadata": {},
   "outputs": [
    {
     "name": "stdout",
     "output_type": "stream",
     "text": [
      "Recommendations for 'Toy Story':\n",
      "                                               title\n",
      "1706                                     Antz (1998)\n",
      "2355                              Toy Story 2 (1999)\n",
      "2809  Adventures of Rocky and Bullwinkle, The (2000)\n",
      "3000                Emperor's New Groove, The (2000)\n",
      "3568                           Monsters, Inc. (2001)\n"
     ]
    }
   ],
   "source": [
    "# Function to get movie recommendations based on similarity\n",
    "def recommend_movies_by_title(movie_title, num_recommendations=5):\n",
    "    # Getting the index of the movie that matches the title\n",
    "    indices = movies[movies['title'].str.contains(movie_title, case=False, na=False)].index\n",
    "\n",
    "    if indices.empty:\n",
    "        return f\"Movie '{movie_title}' not found in the database.\"\n",
    "\n",
    "    idx = indices[0]  # Taking the first match if multiple are found\n",
    "\n",
    "    # Getting the pairwise similarity scores for the movie\n",
    "    sim_scores = list(enumerate(cosine_sim[idx]))\n",
    "\n",
    "    # Sorting movies by similarity scores\n",
    "    sim_scores = sorted(sim_scores, key=lambda x: x[1], reverse=True)\n",
    "\n",
    "    # Getting the indices of the most similar movies\n",
    "    movie_indices = [i[0] for i in sim_scores[1:num_recommendations+1]]\n",
    "\n",
    "    # Returning the titles of the most similar movies\n",
    "    return movies[['title']].iloc[movie_indices]\n",
    "\n",
    "# Example: Recommend movies similar to \"Toy Story\"\n",
    "movie_title = \"Toy Story\"\n",
    "recommendations = recommend_movies_by_title(movie_title)\n",
    "print(f\"Recommendations for '{movie_title}':\")\n",
    "print(recommendations)"
   ]
  },
  {
   "cell_type": "markdown",
   "metadata": {},
   "source": [
    "## Hybrid Recommender System\n",
    "The hybrid system combines:\n",
    "1. **Collaborative Filtering**: For users with sufficient rating history.\n",
    "2. **Content-Based Filtering**: For new users or when collaborative data is sparse.\n"
   ]
  },
  {
   "cell_type": "code",
   "execution_count": 23,
   "metadata": {},
   "outputs": [
    {
     "name": "stdout",
     "output_type": "stream",
     "text": [
      "Collaborative Recommendations for User 1:\n",
      "\n",
      "                                               title         1\n",
      "0                               Departed, The (2006)  0.440982\n",
      "1              Ace Ventura: When Nature Calls (1995)  0.438576\n",
      "2  Lord of the Rings: The Return of the King, The...  0.346146\n",
      "3               Bridge on the River Kwai, The (1957)  0.332124\n",
      "4                          Dead Poets Society (1989)  0.323893\n",
      "Content-Based Recommendations for 'Toy Story':\n",
      "\n",
      "                                               title\n",
      "1706                                     Antz (1998)\n",
      "2355                              Toy Story 2 (1999)\n",
      "2809  Adventures of Rocky and Bullwinkle, The (2000)\n",
      "3000                Emperor's New Groove, The (2000)\n",
      "3568                           Monsters, Inc. (2001)\n"
     ]
    }
   ],
   "source": [
    "def hybrid_recommendation(user_id=None, movie_title=None, num_recommendations=5):\n",
    "    if user_id:\n",
    "        # Using Collaborative Filtering for users with a rating history\n",
    "        recommendations = recommend_movies_with_names(user_id, num_recommendations)\n",
    "        return f\"Collaborative Recommendations for User {user_id}:\\n\", recommendations\n",
    "\n",
    "    elif movie_title:\n",
    "        # Using Content-Based Filtering for a movie title\n",
    "        recommendations = recommend_movies_by_title(movie_title, num_recommendations)\n",
    "        return f\"Content-Based Recommendations for '{movie_title}':\\n\", recommendations\n",
    "\n",
    "    else:\n",
    "        return \"Please provide a valid user_id or movie_title!\"\n",
    "\n",
    "# Example 1: Collaborative Filtering\n",
    "user_id = 1\n",
    "output, recs = hybrid_recommendation(user_id=user_id)\n",
    "print(output)\n",
    "print(recs)\n",
    "\n",
    "# Example 2: Content-Based Filtering\n",
    "movie_title = \"Toy Story\"\n",
    "output, recs = hybrid_recommendation(movie_title=movie_title)\n",
    "print(output)\n",
    "print(recs)\n"
   ]
  }
 ],
 "metadata": {
  "kernelspec": {
   "display_name": "Python 3",
   "language": "python",
   "name": "python3"
  },
  "language_info": {
   "codemirror_mode": {
    "name": "ipython",
    "version": 3
   },
   "file_extension": ".py",
   "mimetype": "text/x-python",
   "name": "python",
   "nbconvert_exporter": "python",
   "pygments_lexer": "ipython3",
   "version": "3.11.3"
  }
 },
 "nbformat": 4,
 "nbformat_minor": 2
}
